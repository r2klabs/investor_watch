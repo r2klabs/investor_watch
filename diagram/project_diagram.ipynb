{
 "cells": [
  {
   "cell_type": "markdown",
   "metadata": {},
   "source": [
    "# Generate Diagrams\n",
    "This notebook uses the diagrams Python library (https://diagrams.mingrammer.com/) to create flow diagrams for network and data engineering projects."
   ]
  },
  {
   "cell_type": "code",
   "execution_count": 1,
   "metadata": {},
   "outputs": [],
   "source": [
    "from diagrams.custom import Custom  \n",
    "from diagrams import Cluster, Diagram, Edge\n",
    "from diagrams.onprem.compute import Server\n",
    "from diagrams.onprem.analytics import Tableau\n",
    "from diagrams.onprem.analytics import PowerBI\n",
    "from diagrams.onprem.workflow import Airflow\n",
    "from diagrams.onprem.database import MySQL"
   ]
  },
  {
   "cell_type": "markdown",
   "metadata": {},
   "source": [
    "## Traditional Server (Docker) Architecture\n",
    "This code generates an architecture diagram that would use multiple Docker containers for collecting data and moving it to Snowflake."
   ]
  },
  {
   "cell_type": "code",
   "execution_count": 5,
   "metadata": {},
   "outputs": [],
   "source": [
    "with Diagram(\"Polygon Data Pipeline\", show=False, filename=\"investor_watch_pipeline\"):\n",
    "    polygon = Custom(\"Polygon IO\", \"polygon_io.png\")\n",
    "    snowflake = Custom(\"SnowFlake\", \"snowflake.png\")\n",
    "  \n",
    "    \n",
    "    with Cluster(\"Ingestion Cluster\"):\n",
    "        servers = [Server(\"Svr1\"),\n",
    "                   Server(\"Svr2\"),\n",
    "                   Server(\"Svr2\")] \n",
    "\n",
    "    with Cluster(\"\"):\n",
    "        streamlit = Custom(\"Streamlit App\", \"streamlit.png\")\n",
    "        \n",
    "    displays =[Tableau(\"Tableau\"), PowerBI(\"Power BI\")]\n",
    "    polygon >> servers >> snowflake >> Edge(style=\"dashed\") >> displays\n",
    "    snowflake >> Edge(style=\"dashed\") >> streamlit  "
   ]
  },
  {
   "cell_type": "markdown",
   "metadata": {},
   "source": [
    "## Airflow Architecture\n",
    "This code generates an architecture diagram that uses Airflow for collecting data and moving it to Snowflake."
   ]
  },
  {
   "cell_type": "code",
   "execution_count": 14,
   "metadata": {},
   "outputs": [],
   "source": [
    "\n",
    "with Diagram(\"Polygon Data Pipeline\", show=False, filename=\"investor_watch_pipeline_airflow\"):\n",
    "    polygon = Custom(\"Polygon IO\", \"polygon_io.png\")\n",
    "    \n",
    "    with Cluster(\"Acquisition\"):\n",
    "        airflow = Airflow(\"Airflow\")\n",
    "    \n",
    "    \n",
    "    snowflake = Custom(\"SnowFlake\", \"snowflake.png\")\n",
    "\n",
    "    with Cluster(\"\"):\n",
    "        streamlit = Custom(\"Streamlit App\", \"streamlit.png\")\n",
    "        \n",
    "    displays =[Tableau(\"Tableau\"), PowerBI(\"Power BI\"),Custom(\"Analysis/Modeling Notebook\", \"jupyter-notebook.png\")]\n",
    "    airflow >> polygon >> airflow >> snowflake >> Edge(style=\"dashed\") >> displays\n",
    "    snowflake >> Edge(style=\"dashed\") >> streamlit"
   ]
  },
  {
   "cell_type": "markdown",
   "metadata": {},
   "source": [
    "## Original Architecture\n",
    "This code generates a diagram that shows the original architecture of the system."
   ]
  },
  {
   "cell_type": "code",
   "execution_count": 4,
   "metadata": {},
   "outputs": [],
   "source": [
    "with Diagram(\"Polygon Data Pipeline\", show=False, filename=\"original_pipeline\"):\n",
    "    polygon = Custom(\"Polygon IO\", \"polygon_io.png\")\n",
    "    jupyter_acquisition = Custom(\"Acquisition Notebook\", \"jupyter-notebook.png\")\n",
    "    mysql = MySQL(\"MySQL\")\n",
    "    jupyter_analysis = Custom(\"Analysis/Modeling Notebook\", \"jupyter-notebook.png\")\n",
    "        \n",
    "    jupyter_acquisition >> polygon >> mysql >> jupyter_analysis\n"
   ]
  },
  {
   "cell_type": "code",
   "execution_count": null,
   "metadata": {},
   "outputs": [],
   "source": []
  }
 ],
 "metadata": {
  "kernelspec": {
   "display_name": "dataengineering",
   "language": "python",
   "name": "python3"
  },
  "language_info": {
   "codemirror_mode": {
    "name": "ipython",
    "version": 3
   },
   "file_extension": ".py",
   "mimetype": "text/x-python",
   "name": "python",
   "nbconvert_exporter": "python",
   "pygments_lexer": "ipython3",
   "version": "3.11.5"
  }
 },
 "nbformat": 4,
 "nbformat_minor": 2
}
