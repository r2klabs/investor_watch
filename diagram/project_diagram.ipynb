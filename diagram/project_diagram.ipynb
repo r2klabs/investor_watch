{
 "cells": [
  {
   "cell_type": "code",
   "execution_count": 2,
   "metadata": {},
   "outputs": [],
   "source": [
    "\n",
    "from diagrams.custom import Custom  \n",
    "from diagrams import Cluster, Diagram, Edge\n",
    "from diagrams.onprem.compute import Server\n",
    "from diagrams.onprem.analytics import Tableau\n",
    "from diagrams.onprem.analytics import PowerBI\n",
    "\n",
    "with Diagram(\"Polygon Data Pipeline\", show=False, filename=\"invester_watch_pipeline\"):\n",
    "    polygon = Custom(\"Polygon IO\", \"polygon_io.png\")\n",
    "    snowflake = Custom(\"SnowFlake\", \"snowflake.png\")\n",
    "    \n",
    "    with Cluster(\"Ingestion Cluster\"):\n",
    "        servers = [Server(\"Svr1\"),\n",
    "                   Server(\"Svr2\"),\n",
    "                   Server(\"Svr3\")] \n",
    "\n",
    "    with Cluster(\"Display Cluster\"):\n",
    "        displays =[Custom(\"Streamlit App\", \"./images/streamlit.png\"), \n",
    "                   Tableau(\"Tableau\"), \n",
    "                   PowerBI(\"Power BI\")]\n",
    "    \n",
    "    polygon >> servers >> snowflake >> Edge(style=\"dashed\") >> displays"
   ]
  },
  {
   "cell_type": "code",
   "execution_count": null,
   "metadata": {},
   "outputs": [],
   "source": []
  },
  {
   "cell_type": "code",
   "execution_count": null,
   "metadata": {},
   "outputs": [],
   "source": []
  }
 ],
 "metadata": {
  "kernelspec": {
   "display_name": "dataengineering",
   "language": "python",
   "name": "python3"
  },
  "language_info": {
   "codemirror_mode": {
    "name": "ipython",
    "version": 3
   },
   "file_extension": ".py",
   "mimetype": "text/x-python",
   "name": "python",
   "nbconvert_exporter": "python",
   "pygments_lexer": "ipython3",
   "version": "3.11.5"
  }
 },
 "nbformat": 4,
 "nbformat_minor": 2
}
