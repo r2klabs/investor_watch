{
 "cells": [
  {
   "cell_type": "code",
   "execution_count": 4,
   "id": "e4f92cf7-4ea2-4e09-8794-b07ef60cc990",
   "metadata": {},
   "outputs": [],
   "source": [
    "import mysql.connector\n",
    "import pandas as pd\n",
    "import requests\n",
    "import json\n",
    "from datetime import date\n",
    "import datetime\n",
    "import time"
   ]
  },
  {
   "cell_type": "markdown",
   "id": "5a7f4eb3-5c39-45a1-9766-17cc829559d7",
   "metadata": {},
   "source": [
    "### Download Data from the Polygon\n",
    "\n",
    "- Meta (META)\n",
    "- Apple (APPL)\n",
    "- Amazon (AMZN)\n",
    "- Netflix (NFLX)\n",
    "- Alphabet (GOOG)\n",
    "- Microsoft (MSFT)"
   ]
  },
  {
   "cell_type": "code",
   "execution_count": 6,
   "id": "ccd59a32-a20d-49e0-a59f-4e1c9e2167a5",
   "metadata": {},
   "outputs": [],
   "source": [
    "companies = ['META','AAPL','AMZN','NFLX','GOOG','MSFT']  #company symbols to retrieve.\n",
    "stock_date = '2023-02-13'"
   ]
  },
  {
   "cell_type": "code",
   "execution_count": 7,
   "id": "b6f9baab-cbd1-458c-b7cf-4790030ff09e",
   "metadata": {},
   "outputs": [],
   "source": [
    "#You need to set up your connection with your credentials\n",
    "connection = mysql.connector.connect(user='stock_user', password='letmein',\n",
    "                              host='127.0.0.1',\n",
    "                              database='stock_data')\n",
    "global_cursor = connection.cursor()"
   ]
  },
  {
   "cell_type": "code",
   "execution_count": 9,
   "id": "73329547-20cd-4848-9b2c-040a69bb6025",
   "metadata": {},
   "outputs": [],
   "source": [
    "def get_company_data(ticker, timestamp, cnx, local_cursor):\n",
    "    request_string = 'https://api.polygon.io/v1/open-close/'+ticker+'/'+timestamp+'?adjusted=true&apiKey=46ipIrH5BrzkTqZj7OUvik7XAFOpu8GJ'\n",
    "    api_response = requests.get(request_string)\n",
    "    data = api_response.text\n",
    "    parse_json = json.loads(data)\n",
    "    db_row=[(v) for k, v in parse_json.items()]\n",
    "    \n",
    "    #for item in db_row:\n",
    "    #    print(item)\n",
    "    \n",
    "    if(db_row[0] != 'NOT_FOUND'):\n",
    "    \n",
    "        symbol = db_row[2]\n",
    "        ticker_date = db_row[1]\n",
    "        open_price = db_row[3]\n",
    "        high_price = db_row[4]\n",
    "        low_price = db_row[5]\n",
    "        close_price = db_row[6]\n",
    "        volume = db_row[7]\n",
    "\n",
    "        sql = \"INSERT INTO stock (symbol, ticker_date, open_price, high_price, low_price, close_price, volume) VALUES (%s, %s, %s, %s, %s, %s, %s)\"\n",
    "        val = (symbol, ticker_date, open_price, high_price, low_price, close_price, volume)\n",
    "        local_cursor.execute(sql, val)\n",
    "\n",
    "        cnx.commit()\n",
    "\n",
    "        print(local_cursor.rowcount, \"record inserted.\")\n",
    "    \n",
    "    time.sleep(15)"
   ]
  },
  {
   "cell_type": "code",
   "execution_count": 10,
   "id": "b5ae5361-d71b-433d-8787-faa96cd0b84f",
   "metadata": {},
   "outputs": [
    {
     "name": "stdout",
     "output_type": "stream",
     "text": [
      "1 record inserted.\n",
      "1 record inserted.\n",
      "1 record inserted.\n",
      "1 record inserted.\n",
      "1 record inserted.\n",
      "1 record inserted.\n"
     ]
    }
   ],
   "source": [
    "for company in companies:\n",
    "    get_company_data(company, stock_date ,connection, global_cursor)"
   ]
  },
  {
   "cell_type": "code",
   "execution_count": null,
   "id": "08fcb73e-f18b-42b9-abb8-582702373fa7",
   "metadata": {},
   "outputs": [],
   "source": [
    "connection.close()"
   ]
  }
 ],
 "metadata": {
  "kernelspec": {
   "display_name": "Python 3 (ipykernel)",
   "language": "python",
   "name": "python3"
  },
  "language_info": {
   "codemirror_mode": {
    "name": "ipython",
    "version": 3
   },
   "file_extension": ".py",
   "mimetype": "text/x-python",
   "name": "python",
   "nbconvert_exporter": "python",
   "pygments_lexer": "ipython3",
   "version": "3.9.7"
  }
 },
 "nbformat": 4,
 "nbformat_minor": 5
}
