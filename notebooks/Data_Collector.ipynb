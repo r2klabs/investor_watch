{
 "cells": [
  {
   "cell_type": "code",
   "execution_count": 12,
   "id": "a44d6ef3-f17f-413f-93f7-1a50537c195f",
   "metadata": {},
   "outputs": [],
   "source": [
    "import mysql.connector\n",
    "import pandas as pd\n",
    "import requests\n",
    "import json\n",
    "from datetime import date\n",
    "import datetime\n",
    "import time"
   ]
  },
  {
   "cell_type": "markdown",
   "id": "9ecd4c2b-ee06-4b11-b1e9-f7f0604980ef",
   "metadata": {},
   "source": [
    "### Download Data from the Polygon\n",
    "\n",
    "- Meta (META)\n",
    "- Apple (APPL)\n",
    "- Amazon (AMZN)\n",
    "- Netflix (NFLX)\n",
    "- Alphabet (GOOG)\n",
    "- Microsoft (MSFT)"
   ]
  },
  {
   "cell_type": "code",
   "execution_count": 22,
   "id": "2a006e81-6b1b-4f8e-8135-9afaf5243d53",
   "metadata": {},
   "outputs": [],
   "source": [
    "companies = ['META','AAPL','AMZN','NFLX','GOOG','MSFT']  #company symbols to retrieve.\n",
    "stock_date = '2021-02-07'"
   ]
  },
  {
   "cell_type": "code",
   "execution_count": 25,
   "id": "f5085e2f-0944-48d7-af42-a60f9f2e62b3",
   "metadata": {},
   "outputs": [],
   "source": [
    "test_date = datetime.datetime.strptime(\"2021-02-16\", \"%Y-%m-%d\")\n",
    "date_range=pd.date_range(test_date, periods = 725)\n",
    "\n",
    "date_range=list(date_range.astype('str'))"
   ]
  },
  {
   "cell_type": "code",
   "execution_count": 11,
   "id": "66130297-0758-4b67-ba22-bfdabe920edc",
   "metadata": {},
   "outputs": [],
   "source": [
    "#date_range"
   ]
  },
  {
   "cell_type": "code",
   "execution_count": null,
   "id": "69c84d14-57a0-4f7a-8818-e7f7d492845d",
   "metadata": {},
   "outputs": [],
   "source": [
    "#You need to set up your connection with your credentials\n",
    "connection = mysql.connector.connect(user='stock_user', password='letmein',\n",
    "                              host='127.0.0.1',\n",
    "                              database='stock_data')\n",
    "global_cursor = connection.cursor()"
   ]
  },
  {
   "cell_type": "code",
   "execution_count": null,
   "id": "8fc2470e-6850-4914-ac79-b25445ef7063",
   "metadata": {},
   "outputs": [],
   "source": [
    "def get_company_data(ticker, timestamp, cnx, local_cursor):\n",
    "    request_string = 'https://api.polygon.io/v1/open-close/'+ticker+'/'+timestamp+'?adjusted=true&apiKey=46ipIrH5BrzkTqZj7OUvik7XAFOpu8GJ'\n",
    "    api_response = requests.get(request_string)\n",
    "    data = api_response.text\n",
    "    parse_json = json.loads(data)\n",
    "    db_row=[(v) for k, v in parse_json.items()]\n",
    "    \n",
    "    #for item in db_row:\n",
    "    #    print(item)\n",
    "    \n",
    "    if(db_row[0] != 'NOT_FOUND'):\n",
    "    \n",
    "        symbol = db_row[2]\n",
    "        ticker_date = db_row[1]\n",
    "        open_price = db_row[3]\n",
    "        high_price = db_row[4]\n",
    "        low_price = db_row[5]\n",
    "        close_price = db_row[6]\n",
    "        volume = db_row[7]\n",
    "\n",
    "        sql = \"INSERT INTO stock (symbol, ticker_date, open_price, high_price, low_price, close_price, volume) VALUES (%s, %s, %s, %s, %s, %s, %s)\"\n",
    "        val = (symbol, ticker_date, open_price, high_price, low_price, close_price, volume)\n",
    "        local_cursor.execute(sql, val)\n",
    "\n",
    "        cnx.commit()\n",
    "\n",
    "        #print(local_cursor.rowcount, \"record inserted.\")\n",
    "    \n",
    "    time.sleep(15)"
   ]
  },
  {
   "cell_type": "code",
   "execution_count": null,
   "id": "becbddab-d59d-42a4-a427-bb558d60accb",
   "metadata": {},
   "outputs": [],
   "source": [
    "#for company in companies:\n",
    "#    print(\"Gettting Data for \", company)\n",
    "#    get_company_data(company, stock_date,connection, global_cursor)"
   ]
  },
  {
   "cell_type": "code",
   "execution_count": null,
   "id": "e822aa71-c656-42cf-8a02-89f927abc628",
   "metadata": {},
   "outputs": [],
   "source": [
    "for company in companies:\n",
    "    print(\"Gettting Data for: \", company)\n",
    "    for day in date_range:\n",
    "        print(\"Date: \", day)\n",
    "        get_company_data(company, day,connection, global_cursor)"
   ]
  },
  {
   "cell_type": "code",
   "execution_count": 44,
   "id": "efdc6e19-1ccc-469d-8e78-be426284e60f",
   "metadata": {},
   "outputs": [],
   "source": [
    "ticker='AAPL'\n",
    "start_day='2021-02-16'\n",
    "end_day='2021-12-31'\n",
    "request_string='https://api.polygon.io/v2/aggs/ticker/'+ticker+'/range/1/day/'+start_day+'/'+end_day+'?adjusted=true&sort=asc&apiKey=46ipIrH5BrzkTqZj7OUvik7XAFOpu8GJ'\n",
    "#request_string = 'https://api.polygon.io/v1/open-close/'+ticker+'/'+timestamp+'?adjusted=true&apiKey=46ipIrH5BrzkTqZj7OUvik7XAFOpu8GJ'\n",
    "api_response = requests.get(request_string)\n",
    "data = api_response.text\n",
    "parse_json = json.loads(data)"
   ]
  },
  {
   "cell_type": "code",
   "execution_count": 47,
   "id": "b03cf604-08cd-49b4-8376-6b504c368fe3",
   "metadata": {},
   "outputs": [],
   "source": [
    "data = parse_json['results']"
   ]
  },
  {
   "cell_type": "code",
   "execution_count": 48,
   "id": "120d4835-7eb5-4a6c-b6f6-d5cd56bc5d0c",
   "metadata": {},
   "outputs": [],
   "source": [
    "#for i in range(0, len(data)):\n",
    "    #temp = str(data[i]['t'])[0:-3]\n",
    "    #print(datetime.datetime.fromtimestamp(int(temp)).date())"
   ]
  },
  {
   "cell_type": "code",
   "execution_count": 31,
   "id": "96963005-072b-44d0-9f7f-3e62bd5fc672",
   "metadata": {},
   "outputs": [],
   "source": [
    "db_row=[(v) for k, v in parse_json.items()]"
   ]
  },
  {
   "cell_type": "code",
   "execution_count": 32,
   "id": "7c1276a9-5e6e-4069-b5f2-1713f2b8b537",
   "metadata": {},
   "outputs": [
    {
     "data": {
      "text/plain": [
       "'OK'"
      ]
     },
     "execution_count": 32,
     "metadata": {},
     "output_type": "execute_result"
    }
   ],
   "source": [
    "db_row[0]"
   ]
  },
  {
   "cell_type": "code",
   "execution_count": 33,
   "id": "6affdf21-6700-494a-8f76-227e45b8b73d",
   "metadata": {},
   "outputs": [
    {
     "ename": "NameError",
     "evalue": "name 'connection' is not defined",
     "output_type": "error",
     "traceback": [
      "\u001b[0;31m---------------------------------------------------------------------------\u001b[0m",
      "\u001b[0;31mNameError\u001b[0m                                 Traceback (most recent call last)",
      "\u001b[0;32m/tmp/ipykernel_7543/4072484900.py\u001b[0m in \u001b[0;36m<module>\u001b[0;34m\u001b[0m\n\u001b[0;32m----> 1\u001b[0;31m \u001b[0mconnection\u001b[0m\u001b[0;34m.\u001b[0m\u001b[0mclose\u001b[0m\u001b[0;34m(\u001b[0m\u001b[0;34m)\u001b[0m\u001b[0;34m\u001b[0m\u001b[0;34m\u001b[0m\u001b[0m\n\u001b[0m",
      "\u001b[0;31mNameError\u001b[0m: name 'connection' is not defined"
     ]
    }
   ],
   "source": [
    "connection.close()"
   ]
  },
  {
   "cell_type": "code",
   "execution_count": null,
   "id": "5f08660f-4d98-40d7-9c1d-33889fd37dbb",
   "metadata": {},
   "outputs": [],
   "source": [
    "1673240400000"
   ]
  },
  {
   "cell_type": "code",
   "execution_count": 42,
   "id": "060911a7-18d0-4fa0-9b0a-9d3ce62487db",
   "metadata": {},
   "outputs": [
    {
     "name": "stdout",
     "output_type": "stream",
     "text": [
      "2021-02-16\n"
     ]
    }
   ],
   "source": [
    "import datetime\n",
    "\n",
    "dt = datetime.datetime.fromtimestamp(1613451600)\n",
    "#1673240400\n",
    "print(dt.date())\n",
    "# 1970-01-01 09:00:00"
   ]
  },
  {
   "cell_type": "code",
   "execution_count": null,
   "id": "d8e8d208-39a3-4335-90c5-546967c66f0a",
   "metadata": {},
   "outputs": [],
   "source": []
  }
 ],
 "metadata": {
  "kernelspec": {
   "display_name": "Python 3 (ipykernel)",
   "language": "python",
   "name": "python3"
  },
  "language_info": {
   "codemirror_mode": {
    "name": "ipython",
    "version": 3
   },
   "file_extension": ".py",
   "mimetype": "text/x-python",
   "name": "python",
   "nbconvert_exporter": "python",
   "pygments_lexer": "ipython3",
   "version": "3.9.7"
  }
 },
 "nbformat": 4,
 "nbformat_minor": 5
}
